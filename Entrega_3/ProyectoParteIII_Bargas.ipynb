{
  "cells": [
    {
      "cell_type": "markdown",
      "metadata": {
        "id": "view-in-github",
        "colab_type": "text"
      },
      "source": [
        "<a href=\"https://colab.research.google.com/github/Gise05624/Proyecto_DataScience_I/blob/main/Entrega_3/ProyectoParteIII_Bargas.ipynb\" target=\"_parent\"><img src=\"https://colab.research.google.com/assets/colab-badge.svg\" alt=\"Open In Colab\"/></a>"
      ]
    },
    {
      "cell_type": "markdown",
      "id": "GMvidYobzoKZ",
      "metadata": {
        "id": "GMvidYobzoKZ"
      },
      "source": [
        "# Proyecto Final\n",
        "\n",
        "### Archivo: ProyectoDS_ParteI_Bargas.ipynb\n",
        "_______________________________________"
      ]
    },
    {
      "cell_type": "markdown",
      "id": "57c7c070",
      "metadata": {
        "id": "57c7c070"
      },
      "source": [
        "# ✔ Modelado y Validación\n",
        "\n",
        "Este proyecto forma parte del análisis comercial de un conjunto de datos con información mensual sobre ventas, costos operativos y satisfacción del cliente, segmentado por región y tipo de producto. En esta tercera parte busco aplicar técnicas de selección de variables y modelado predictivo para estimar el volumen de ventas.\n",
        "\n",
        "_______________________________________"
      ]
    },
    {
      "cell_type": "markdown",
      "id": "a0ad2646",
      "metadata": {
        "id": "a0ad2646"
      },
      "source": [
        "## 🗂️📈 Preparación de los datos\n",
        "\n",
        "Se cargan los datos, se codifican las variables categóricas y se convierten las fechas en variables numéricas para su uso en modelos.\n",
        "\n"
      ]
    },
    {
      "cell_type": "code",
      "execution_count": 2,
      "id": "5db32b2e",
      "metadata": {
        "colab": {
          "base_uri": "https://localhost:8080/",
          "height": 206
        },
        "id": "5db32b2e",
        "outputId": "40feb564-71ce-42ba-d8e8-050a8aeea1c4"
      },
      "outputs": [
        {
          "output_type": "execute_result",
          "data": {
            "text/plain": [
              "   Mes  Ventas  Satisfaccion_Cliente  Costo_Operativo  Region_Norte  \\\n",
              "0    1    4174              4.593086             1794          True   \n",
              "1    2    2130              4.559382             2138          True   \n",
              "2    3    3169              3.311989              830          True   \n",
              "3    4    2482              4.732352              630          True   \n",
              "4    5    2685              3.112823             2891          True   \n",
              "\n",
              "   Region_Oeste  Region_Sur  Producto_Producto_B  Producto_Producto_C  \n",
              "0         False       False                False                False  \n",
              "1         False       False                False                False  \n",
              "2         False       False                False                False  \n",
              "3         False       False                False                False  \n",
              "4         False       False                False                False  "
            ],
            "text/html": [
              "\n",
              "  <div id=\"df-8b1af8cb-7a0c-4136-90bf-8420bfa798b4\" class=\"colab-df-container\">\n",
              "    <div>\n",
              "<style scoped>\n",
              "    .dataframe tbody tr th:only-of-type {\n",
              "        vertical-align: middle;\n",
              "    }\n",
              "\n",
              "    .dataframe tbody tr th {\n",
              "        vertical-align: top;\n",
              "    }\n",
              "\n",
              "    .dataframe thead th {\n",
              "        text-align: right;\n",
              "    }\n",
              "</style>\n",
              "<table border=\"1\" class=\"dataframe\">\n",
              "  <thead>\n",
              "    <tr style=\"text-align: right;\">\n",
              "      <th></th>\n",
              "      <th>Mes</th>\n",
              "      <th>Ventas</th>\n",
              "      <th>Satisfaccion_Cliente</th>\n",
              "      <th>Costo_Operativo</th>\n",
              "      <th>Region_Norte</th>\n",
              "      <th>Region_Oeste</th>\n",
              "      <th>Region_Sur</th>\n",
              "      <th>Producto_Producto_B</th>\n",
              "      <th>Producto_Producto_C</th>\n",
              "    </tr>\n",
              "  </thead>\n",
              "  <tbody>\n",
              "    <tr>\n",
              "      <th>0</th>\n",
              "      <td>1</td>\n",
              "      <td>4174</td>\n",
              "      <td>4.593086</td>\n",
              "      <td>1794</td>\n",
              "      <td>True</td>\n",
              "      <td>False</td>\n",
              "      <td>False</td>\n",
              "      <td>False</td>\n",
              "      <td>False</td>\n",
              "    </tr>\n",
              "    <tr>\n",
              "      <th>1</th>\n",
              "      <td>2</td>\n",
              "      <td>2130</td>\n",
              "      <td>4.559382</td>\n",
              "      <td>2138</td>\n",
              "      <td>True</td>\n",
              "      <td>False</td>\n",
              "      <td>False</td>\n",
              "      <td>False</td>\n",
              "      <td>False</td>\n",
              "    </tr>\n",
              "    <tr>\n",
              "      <th>2</th>\n",
              "      <td>3</td>\n",
              "      <td>3169</td>\n",
              "      <td>3.311989</td>\n",
              "      <td>830</td>\n",
              "      <td>True</td>\n",
              "      <td>False</td>\n",
              "      <td>False</td>\n",
              "      <td>False</td>\n",
              "      <td>False</td>\n",
              "    </tr>\n",
              "    <tr>\n",
              "      <th>3</th>\n",
              "      <td>4</td>\n",
              "      <td>2482</td>\n",
              "      <td>4.732352</td>\n",
              "      <td>630</td>\n",
              "      <td>True</td>\n",
              "      <td>False</td>\n",
              "      <td>False</td>\n",
              "      <td>False</td>\n",
              "      <td>False</td>\n",
              "    </tr>\n",
              "    <tr>\n",
              "      <th>4</th>\n",
              "      <td>5</td>\n",
              "      <td>2685</td>\n",
              "      <td>3.112823</td>\n",
              "      <td>2891</td>\n",
              "      <td>True</td>\n",
              "      <td>False</td>\n",
              "      <td>False</td>\n",
              "      <td>False</td>\n",
              "      <td>False</td>\n",
              "    </tr>\n",
              "  </tbody>\n",
              "</table>\n",
              "</div>\n",
              "    <div class=\"colab-df-buttons\">\n",
              "\n",
              "  <div class=\"colab-df-container\">\n",
              "    <button class=\"colab-df-convert\" onclick=\"convertToInteractive('df-8b1af8cb-7a0c-4136-90bf-8420bfa798b4')\"\n",
              "            title=\"Convert this dataframe to an interactive table.\"\n",
              "            style=\"display:none;\">\n",
              "\n",
              "  <svg xmlns=\"http://www.w3.org/2000/svg\" height=\"24px\" viewBox=\"0 -960 960 960\">\n",
              "    <path d=\"M120-120v-720h720v720H120Zm60-500h600v-160H180v160Zm220 220h160v-160H400v160Zm0 220h160v-160H400v160ZM180-400h160v-160H180v160Zm440 0h160v-160H620v160ZM180-180h160v-160H180v160Zm440 0h160v-160H620v160Z\"/>\n",
              "  </svg>\n",
              "    </button>\n",
              "\n",
              "  <style>\n",
              "    .colab-df-container {\n",
              "      display:flex;\n",
              "      gap: 12px;\n",
              "    }\n",
              "\n",
              "    .colab-df-convert {\n",
              "      background-color: #E8F0FE;\n",
              "      border: none;\n",
              "      border-radius: 50%;\n",
              "      cursor: pointer;\n",
              "      display: none;\n",
              "      fill: #1967D2;\n",
              "      height: 32px;\n",
              "      padding: 0 0 0 0;\n",
              "      width: 32px;\n",
              "    }\n",
              "\n",
              "    .colab-df-convert:hover {\n",
              "      background-color: #E2EBFA;\n",
              "      box-shadow: 0px 1px 2px rgba(60, 64, 67, 0.3), 0px 1px 3px 1px rgba(60, 64, 67, 0.15);\n",
              "      fill: #174EA6;\n",
              "    }\n",
              "\n",
              "    .colab-df-buttons div {\n",
              "      margin-bottom: 4px;\n",
              "    }\n",
              "\n",
              "    [theme=dark] .colab-df-convert {\n",
              "      background-color: #3B4455;\n",
              "      fill: #D2E3FC;\n",
              "    }\n",
              "\n",
              "    [theme=dark] .colab-df-convert:hover {\n",
              "      background-color: #434B5C;\n",
              "      box-shadow: 0px 1px 3px 1px rgba(0, 0, 0, 0.15);\n",
              "      filter: drop-shadow(0px 1px 2px rgba(0, 0, 0, 0.3));\n",
              "      fill: #FFFFFF;\n",
              "    }\n",
              "  </style>\n",
              "\n",
              "    <script>\n",
              "      const buttonEl =\n",
              "        document.querySelector('#df-8b1af8cb-7a0c-4136-90bf-8420bfa798b4 button.colab-df-convert');\n",
              "      buttonEl.style.display =\n",
              "        google.colab.kernel.accessAllowed ? 'block' : 'none';\n",
              "\n",
              "      async function convertToInteractive(key) {\n",
              "        const element = document.querySelector('#df-8b1af8cb-7a0c-4136-90bf-8420bfa798b4');\n",
              "        const dataTable =\n",
              "          await google.colab.kernel.invokeFunction('convertToInteractive',\n",
              "                                                    [key], {});\n",
              "        if (!dataTable) return;\n",
              "\n",
              "        const docLinkHtml = 'Like what you see? Visit the ' +\n",
              "          '<a target=\"_blank\" href=https://colab.research.google.com/notebooks/data_table.ipynb>data table notebook</a>'\n",
              "          + ' to learn more about interactive tables.';\n",
              "        element.innerHTML = '';\n",
              "        dataTable['output_type'] = 'display_data';\n",
              "        await google.colab.output.renderOutput(dataTable, element);\n",
              "        const docLink = document.createElement('div');\n",
              "        docLink.innerHTML = docLinkHtml;\n",
              "        element.appendChild(docLink);\n",
              "      }\n",
              "    </script>\n",
              "  </div>\n",
              "\n",
              "\n",
              "    <div id=\"df-c0a55dd7-3d21-4c17-a3f1-a305a1b8ff86\">\n",
              "      <button class=\"colab-df-quickchart\" onclick=\"quickchart('df-c0a55dd7-3d21-4c17-a3f1-a305a1b8ff86')\"\n",
              "                title=\"Suggest charts\"\n",
              "                style=\"display:none;\">\n",
              "\n",
              "<svg xmlns=\"http://www.w3.org/2000/svg\" height=\"24px\"viewBox=\"0 0 24 24\"\n",
              "     width=\"24px\">\n",
              "    <g>\n",
              "        <path d=\"M19 3H5c-1.1 0-2 .9-2 2v14c0 1.1.9 2 2 2h14c1.1 0 2-.9 2-2V5c0-1.1-.9-2-2-2zM9 17H7v-7h2v7zm4 0h-2V7h2v10zm4 0h-2v-4h2v4z\"/>\n",
              "    </g>\n",
              "</svg>\n",
              "      </button>\n",
              "\n",
              "<style>\n",
              "  .colab-df-quickchart {\n",
              "      --bg-color: #E8F0FE;\n",
              "      --fill-color: #1967D2;\n",
              "      --hover-bg-color: #E2EBFA;\n",
              "      --hover-fill-color: #174EA6;\n",
              "      --disabled-fill-color: #AAA;\n",
              "      --disabled-bg-color: #DDD;\n",
              "  }\n",
              "\n",
              "  [theme=dark] .colab-df-quickchart {\n",
              "      --bg-color: #3B4455;\n",
              "      --fill-color: #D2E3FC;\n",
              "      --hover-bg-color: #434B5C;\n",
              "      --hover-fill-color: #FFFFFF;\n",
              "      --disabled-bg-color: #3B4455;\n",
              "      --disabled-fill-color: #666;\n",
              "  }\n",
              "\n",
              "  .colab-df-quickchart {\n",
              "    background-color: var(--bg-color);\n",
              "    border: none;\n",
              "    border-radius: 50%;\n",
              "    cursor: pointer;\n",
              "    display: none;\n",
              "    fill: var(--fill-color);\n",
              "    height: 32px;\n",
              "    padding: 0;\n",
              "    width: 32px;\n",
              "  }\n",
              "\n",
              "  .colab-df-quickchart:hover {\n",
              "    background-color: var(--hover-bg-color);\n",
              "    box-shadow: 0 1px 2px rgba(60, 64, 67, 0.3), 0 1px 3px 1px rgba(60, 64, 67, 0.15);\n",
              "    fill: var(--button-hover-fill-color);\n",
              "  }\n",
              "\n",
              "  .colab-df-quickchart-complete:disabled,\n",
              "  .colab-df-quickchart-complete:disabled:hover {\n",
              "    background-color: var(--disabled-bg-color);\n",
              "    fill: var(--disabled-fill-color);\n",
              "    box-shadow: none;\n",
              "  }\n",
              "\n",
              "  .colab-df-spinner {\n",
              "    border: 2px solid var(--fill-color);\n",
              "    border-color: transparent;\n",
              "    border-bottom-color: var(--fill-color);\n",
              "    animation:\n",
              "      spin 1s steps(1) infinite;\n",
              "  }\n",
              "\n",
              "  @keyframes spin {\n",
              "    0% {\n",
              "      border-color: transparent;\n",
              "      border-bottom-color: var(--fill-color);\n",
              "      border-left-color: var(--fill-color);\n",
              "    }\n",
              "    20% {\n",
              "      border-color: transparent;\n",
              "      border-left-color: var(--fill-color);\n",
              "      border-top-color: var(--fill-color);\n",
              "    }\n",
              "    30% {\n",
              "      border-color: transparent;\n",
              "      border-left-color: var(--fill-color);\n",
              "      border-top-color: var(--fill-color);\n",
              "      border-right-color: var(--fill-color);\n",
              "    }\n",
              "    40% {\n",
              "      border-color: transparent;\n",
              "      border-right-color: var(--fill-color);\n",
              "      border-top-color: var(--fill-color);\n",
              "    }\n",
              "    60% {\n",
              "      border-color: transparent;\n",
              "      border-right-color: var(--fill-color);\n",
              "    }\n",
              "    80% {\n",
              "      border-color: transparent;\n",
              "      border-right-color: var(--fill-color);\n",
              "      border-bottom-color: var(--fill-color);\n",
              "    }\n",
              "    90% {\n",
              "      border-color: transparent;\n",
              "      border-bottom-color: var(--fill-color);\n",
              "    }\n",
              "  }\n",
              "</style>\n",
              "\n",
              "      <script>\n",
              "        async function quickchart(key) {\n",
              "          const quickchartButtonEl =\n",
              "            document.querySelector('#' + key + ' button');\n",
              "          quickchartButtonEl.disabled = true;  // To prevent multiple clicks.\n",
              "          quickchartButtonEl.classList.add('colab-df-spinner');\n",
              "          try {\n",
              "            const charts = await google.colab.kernel.invokeFunction(\n",
              "                'suggestCharts', [key], {});\n",
              "          } catch (error) {\n",
              "            console.error('Error during call to suggestCharts:', error);\n",
              "          }\n",
              "          quickchartButtonEl.classList.remove('colab-df-spinner');\n",
              "          quickchartButtonEl.classList.add('colab-df-quickchart-complete');\n",
              "        }\n",
              "        (() => {\n",
              "          let quickchartButtonEl =\n",
              "            document.querySelector('#df-c0a55dd7-3d21-4c17-a3f1-a305a1b8ff86 button');\n",
              "          quickchartButtonEl.style.display =\n",
              "            google.colab.kernel.accessAllowed ? 'block' : 'none';\n",
              "        })();\n",
              "      </script>\n",
              "    </div>\n",
              "\n",
              "    </div>\n",
              "  </div>\n"
            ],
            "application/vnd.google.colaboratory.intrinsic+json": {
              "type": "dataframe",
              "variable_name": "df_modelo",
              "summary": "{\n  \"name\": \"df_modelo\",\n  \"rows\": 144,\n  \"fields\": [\n    {\n      \"column\": \"Mes\",\n      \"properties\": {\n        \"dtype\": \"int32\",\n        \"num_unique_values\": 12,\n        \"samples\": [\n          11,\n          10,\n          1\n        ],\n        \"semantic_type\": \"\",\n        \"description\": \"\"\n      }\n    },\n    {\n      \"column\": \"Ventas\",\n      \"properties\": {\n        \"dtype\": \"number\",\n        \"std\": 1136,\n        \"min\": 1019,\n        \"max\": 4991,\n        \"num_unique_values\": 142,\n        \"samples\": [\n          1369,\n          3253,\n          3049\n        ],\n        \"semantic_type\": \"\",\n        \"description\": \"\"\n      }\n    },\n    {\n      \"column\": \"Satisfaccion_Cliente\",\n      \"properties\": {\n        \"dtype\": \"number\",\n        \"std\": 0.5623831489356126,\n        \"min\": 3.0139042610623816,\n        \"max\": 4.995480970097884,\n        \"num_unique_values\": 144,\n        \"samples\": [\n          3.8395617128925528,\n          3.7821212151464816,\n          4.992507399515849\n        ],\n        \"semantic_type\": \"\",\n        \"description\": \"\"\n      }\n    },\n    {\n      \"column\": \"Costo_Operativo\",\n      \"properties\": {\n        \"dtype\": \"number\",\n        \"std\": 672,\n        \"min\": 504,\n        \"max\": 2933,\n        \"num_unique_values\": 138,\n        \"samples\": [\n          2103,\n          627,\n          2028\n        ],\n        \"semantic_type\": \"\",\n        \"description\": \"\"\n      }\n    },\n    {\n      \"column\": \"Region_Norte\",\n      \"properties\": {\n        \"dtype\": \"boolean\",\n        \"num_unique_values\": 2,\n        \"samples\": [\n          false,\n          true\n        ],\n        \"semantic_type\": \"\",\n        \"description\": \"\"\n      }\n    },\n    {\n      \"column\": \"Region_Oeste\",\n      \"properties\": {\n        \"dtype\": \"boolean\",\n        \"num_unique_values\": 2,\n        \"samples\": [\n          true,\n          false\n        ],\n        \"semantic_type\": \"\",\n        \"description\": \"\"\n      }\n    },\n    {\n      \"column\": \"Region_Sur\",\n      \"properties\": {\n        \"dtype\": \"boolean\",\n        \"num_unique_values\": 2,\n        \"samples\": [\n          true,\n          false\n        ],\n        \"semantic_type\": \"\",\n        \"description\": \"\"\n      }\n    },\n    {\n      \"column\": \"Producto_Producto_B\",\n      \"properties\": {\n        \"dtype\": \"boolean\",\n        \"num_unique_values\": 2,\n        \"samples\": [\n          true,\n          false\n        ],\n        \"semantic_type\": \"\",\n        \"description\": \"\"\n      }\n    },\n    {\n      \"column\": \"Producto_Producto_C\",\n      \"properties\": {\n        \"dtype\": \"boolean\",\n        \"num_unique_values\": 2,\n        \"samples\": [\n          true,\n          false\n        ],\n        \"semantic_type\": \"\",\n        \"description\": \"\"\n      }\n    }\n  ]\n}"
            }
          },
          "metadata": {},
          "execution_count": 2
        }
      ],
      "source": [
        "\n",
        "import pandas as pd\n",
        "\n",
        "df = pd.read_csv('ventas_dataset_actdeclase.csv')\n",
        "df['Mes'] = pd.to_datetime(df['Mes'])\n",
        "df_modelo = df.copy()\n",
        "df_modelo = pd.get_dummies(df_modelo, columns=['Region', 'Producto'], drop_first=True)\n",
        "df_modelo['Mes'] = df_modelo['Mes'].dt.month\n",
        "df_modelo.head()\n"
      ]
    },
    {
      "cell_type": "markdown",
      "id": "x1xftZCV2CjL",
      "metadata": {
        "id": "x1xftZCV2CjL"
      },
      "source": [
        "____________________"
      ]
    },
    {
      "cell_type": "markdown",
      "id": "6af13d51",
      "metadata": {
        "id": "6af13d51"
      },
      "source": [
        "## 📊 Selección de variables (Feature Selection)\n",
        "\n",
        "Se usa el método **SelectKBest** con función `f_regression` para seleccionar las 5 variables más relevantes para predecir las ventas."
      ]
    },
    {
      "cell_type": "code",
      "execution_count": 3,
      "id": "5b56ea9a",
      "metadata": {
        "colab": {
          "base_uri": "https://localhost:8080/"
        },
        "id": "5b56ea9a",
        "outputId": "0fef1409-9459-4f0c-a3b4-1baf87f81ba9"
      },
      "outputs": [
        {
          "output_type": "stream",
          "name": "stdout",
          "text": [
            "Variables seleccionadas: ['Satisfaccion_Cliente', 'Costo_Operativo', 'Region_Norte', 'Region_Oeste', 'Producto_Producto_C']\n"
          ]
        }
      ],
      "source": [
        "\n",
        "from sklearn.feature_selection import SelectKBest, f_regression\n",
        "from sklearn.model_selection import train_test_split\n",
        "\n",
        "X = df_modelo.drop('Ventas', axis=1)\n",
        "y = df_modelo['Ventas']\n",
        "\n",
        "X_train, X_test, y_train, y_test = train_test_split(X, y, test_size=0.2, random_state=42)\n",
        "\n",
        "selector = SelectKBest(score_func=f_regression, k=5)\n",
        "X_train_selected = selector.fit_transform(X_train, y_train)\n",
        "X_test_selected = selector.transform(X_test)\n",
        "\n",
        "selected_features = X_train.columns[selector.get_support()].tolist()\n",
        "print(\"Variables seleccionadas:\", selected_features)\n"
      ]
    },
    {
      "cell_type": "markdown",
      "id": "gSk1X9Aa15rz",
      "metadata": {
        "id": "gSk1X9Aa15rz"
      },
      "source": [
        "__________________________\n"
      ]
    },
    {
      "cell_type": "markdown",
      "id": "f0aed454",
      "metadata": {
        "id": "f0aed454"
      },
      "source": [
        "## 👩🏻‍💻 Entrenamiento del modelo\n",
        "\n",
        "Se utiliza un modelo de regresión basado en Random Forest para predecir el volumen de ventas.\n"
      ]
    },
    {
      "cell_type": "code",
      "execution_count": 4,
      "id": "4100d45b",
      "metadata": {
        "id": "4100d45b"
      },
      "outputs": [],
      "source": [
        "\n",
        "from sklearn.ensemble import RandomForestRegressor\n",
        "\n",
        "model = RandomForestRegressor(random_state=42)\n",
        "model.fit(X_train_selected, y_train)\n",
        "\n",
        "y_pred = model.predict(X_test_selected)\n"
      ]
    },
    {
      "cell_type": "markdown",
      "id": "-yIAuUpC19QS",
      "metadata": {
        "id": "-yIAuUpC19QS"
      },
      "source": [
        "____________________"
      ]
    },
    {
      "cell_type": "markdown",
      "id": "fc60fe68",
      "metadata": {
        "id": "fc60fe68"
      },
      "source": [
        "## 🧐 Evaluación del modelo\n",
        "\n",
        "Se evalúa el modelo utilizando métricas de regresión: **MAE**, **RMSE** y **R²**.\n"
      ]
    },
    {
      "cell_type": "code",
      "execution_count": 5,
      "id": "228640fe",
      "metadata": {
        "colab": {
          "base_uri": "https://localhost:8080/"
        },
        "id": "228640fe",
        "outputId": "71ef53bf-7100-481b-ac7d-c19c9cef8c54"
      },
      "outputs": [
        {
          "output_type": "stream",
          "name": "stdout",
          "text": [
            "MAE: 1048.7724137931034\n",
            "RMSE: 1177.6051911664065\n",
            "R²: -0.15432475616027408\n"
          ]
        }
      ],
      "source": [
        "from sklearn.metrics import mean_absolute_error, mean_squared_error, r2_score\n",
        "\n",
        "mae = mean_absolute_error(y_test, y_pred)\n",
        "mse = mean_squared_error(y_test, y_pred)\n",
        "rmse = mse ** 0.5\n",
        "r2 = r2_score(y_test, y_pred)\n",
        "\n",
        "print(\"MAE:\", mae)\n",
        "print(\"RMSE:\", rmse)\n",
        "print(\"R²:\", r2)"
      ]
    },
    {
      "cell_type": "markdown",
      "id": "MkVL11e72AVm",
      "metadata": {
        "id": "MkVL11e72AVm"
      },
      "source": [
        "___________________"
      ]
    },
    {
      "cell_type": "markdown",
      "id": "b4bce376",
      "metadata": {
        "id": "b4bce376"
      },
      "source": [
        "## 📈💰📊 Modelo de Clasificación\n",
        "Creo una variable categórica que indica si las ventas fueron altas (por encima de la mediana) o bajas. Luego se entrena un modelo `RandomForestClassifier` para predecir esta clase."
      ]
    },
    {
      "cell_type": "code",
      "execution_count": 6,
      "id": "d3facbe7",
      "metadata": {
        "id": "d3facbe7"
      },
      "outputs": [],
      "source": [
        "df_modelo['Ventas_Altas'] = (df_modelo['Ventas'] > df_modelo['Ventas'].median()).astype(int)\n",
        "X_clf = df_modelo.drop(['Ventas', 'Ventas_Altas'], axis=1)\n",
        "y_clf = df_modelo['Ventas_Altas']\n",
        "\n",
        "from sklearn.model_selection import train_test_split\n",
        "X_train_clf, X_test_clf, y_train_clf, y_test_clf = train_test_split(X_clf, y_clf, test_size=0.2, random_state=42)\n"
      ]
    },
    {
      "cell_type": "code",
      "execution_count": 7,
      "id": "5cb518e7",
      "metadata": {
        "id": "5cb518e7"
      },
      "outputs": [],
      "source": [
        "from sklearn.ensemble import RandomForestClassifier\n",
        "\n",
        "clf = RandomForestClassifier(random_state=42)\n",
        "clf.fit(X_train_clf, y_train_clf)\n",
        "y_pred_clf = clf.predict(X_test_clf)\n"
      ]
    },
    {
      "cell_type": "code",
      "execution_count": 8,
      "id": "46695c9b",
      "metadata": {
        "colab": {
          "base_uri": "https://localhost:8080/"
        },
        "id": "46695c9b",
        "outputId": "427c4bb3-2abe-418f-97ba-e60fabcc7972"
      },
      "outputs": [
        {
          "output_type": "stream",
          "name": "stdout",
          "text": [
            "Accuracy: 0.5862068965517241\n",
            "Precision: 0.625\n",
            "Recall: 0.35714285714285715\n",
            "F1 Score: 0.45454545454545453\n",
            "\n",
            "Classification Report:\n",
            "               precision    recall  f1-score   support\n",
            "\n",
            "           0       0.57      0.80      0.67        15\n",
            "           1       0.62      0.36      0.45        14\n",
            "\n",
            "    accuracy                           0.59        29\n",
            "   macro avg       0.60      0.58      0.56        29\n",
            "weighted avg       0.60      0.59      0.56        29\n",
            "\n"
          ]
        }
      ],
      "source": [
        "from sklearn.metrics import accuracy_score, precision_score, recall_score, f1_score, classification_report\n",
        "\n",
        "print(\"Accuracy:\", accuracy_score(y_test_clf, y_pred_clf))\n",
        "print(\"Precision:\", precision_score(y_test_clf, y_pred_clf))\n",
        "print(\"Recall:\", recall_score(y_test_clf, y_pred_clf))\n",
        "print(\"F1 Score:\", f1_score(y_test_clf, y_pred_clf))\n",
        "print(\"\\nClassification Report:\\n\", classification_report(y_test_clf, y_pred_clf))\n"
      ]
    },
    {
      "cell_type": "markdown",
      "id": "adbbbfb6",
      "metadata": {
        "id": "adbbbfb6"
      },
      "source": [
        "## 🔍 Conclusiones\n",
        "\n",
        "En este proyecto trabajé dos enfoques: regresión para predecir ventas y clasificación para identificar si fueron altas o bajas.\n",
        "\n",
        "En el modelo de regresión, las variables más relevantes fueron la satisfacción del cliente, el costo operativo y algunas regiones y productos. El error promedio fue de MAE 1048.77 y el RMSE de 1177.61, lo que muestra que el modelo no tuvo un buen desempeño, pero sí me permitió detectar que variables internas como la satisfacción del cliente, los costos operativos y ciertos productos o regiones están influyendo en los resultados.\n",
        "\n",
        "En el modelo de clasificación, la precisión fue de 0.62, con un F1-score de 0.45. Si bien no fueron valores altos, fue útil para empezar a identificar combinaciones de variables asociadas a ventas por encima del promedio."
      ]
    }
  ],
  "metadata": {
    "colab": {
      "provenance": [],
      "include_colab_link": true
    },
    "kernelspec": {
      "display_name": "Python 3",
      "name": "python3"
    },
    "language_info": {
      "name": "python"
    }
  },
  "nbformat": 4,
  "nbformat_minor": 5
}