{
  "nbformat": 4,
  "nbformat_minor": 0,
  "metadata": {
    "colab": {
      "provenance": [],
      "authorship_tag": "ABX9TyMxf3sWY9SfakeWFJ9Ts0hX",
      "include_colab_link": true
    },
    "kernelspec": {
      "name": "python3",
      "display_name": "Python 3"
    },
    "language_info": {
      "name": "python"
    }
  },
  "cells": [
    {
      "cell_type": "markdown",
      "metadata": {
        "id": "view-in-github",
        "colab_type": "text"
      },
      "source": [
        "<a href=\"https://colab.research.google.com/github/Gise05624/Proyecto_DataScience_I/blob/main/Entrega_1/%20pv_scania.ipynb\" target=\"_parent\"><img src=\"https://colab.research.google.com/assets/colab-badge.svg\" alt=\"Open In Colab\"/></a>"
      ]
    },
    {
      "cell_type": "code",
      "execution_count": null,
      "metadata": {
        "colab": {
          "base_uri": "https://localhost:8080/"
        },
        "id": "rMjKx0jEOvr1",
        "outputId": "322f750b-6def-4691-8293-77b71228af22"
      },
      "outputs": [
        {
          "output_type": "stream",
          "name": "stdout",
          "text": [
            "     ID_Camion Fecha_Entrada_Taller  Kilometraje  Tipo_Servicio  \\\n",
            "0  SCANIA-1000           2023-01-01       171958     Reparación   \n",
            "1  SCANIA-1001           2023-01-02       721155    Diagnóstico   \n",
            "2  SCANIA-1002           2023-01-03       181932  Mantenimiento   \n",
            "3  SCANIA-1003           2023-01-04       415838    Diagnóstico   \n",
            "4  SCANIA-1004           2023-01-05       309178     Reparación   \n",
            "\n",
            "   Repuestos_Requeridos  Costo_Repuestos  Costo_Mano_Obra  \\\n",
            "0                     8          1123.64          3788.96   \n",
            "1                     2          1852.78          3691.01   \n",
            "2                     2          2625.82          4393.34   \n",
            "3                     3          1502.06          3641.64   \n",
            "4                     3          2101.09          1236.02   \n",
            "\n",
            "   Duracion_Taller_Dias Taller_ID Ciudad_Taller  ... Año_Fabricacion  \\\n",
            "0                     9    TLR002   Antofagasta  ...            2020   \n",
            "1                     7    TLR003           NaN  ...            2016   \n",
            "2                     6    TLR002    Valparaíso  ...            2020   \n",
            "3                    12    TLR001    Valparaíso  ...            2020   \n",
            "4                     5    TLR003      Santiago  ...            2017   \n",
            "\n",
            "   Presupuesto_Aprobado Fecha_Salida_Taller Cliente_ID  \\\n",
            "0                   NaN          2023-01-05    CLT-745   \n",
            "1                  True          2023-01-06    CLT-824   \n",
            "2                 False          2023-01-07    CLT-626   \n",
            "3                  True          2023-01-08    CLT-535   \n",
            "4                 False          2023-01-09    CLT-939   \n",
            "\n",
            "  Frecuencia_Visitas_Taller  Tiempo_Espera_Dias  Tecnico_Asignado  \\\n",
            "0                         5                   1            TEC-19   \n",
            "1                         5                   0            TEC-12   \n",
            "2                         8                   2            TEC-11   \n",
            "3                         4                   7            TEC-16   \n",
            "4                         9                   7             TEC-5   \n",
            "\n",
            "  Tipo_Repuesto_Mayor Reclamos_Previos  Satisfaccion_Cliente  \n",
            "0              Frenos                3                   2.0  \n",
            "1              Frenos                0                   NaN  \n",
            "2              Frenos                0                   3.0  \n",
            "3           Eléctrico                4                   4.0  \n",
            "4              Frenos                3                   4.0  \n",
            "\n",
            "[5 rows x 21 columns]\n"
          ]
        }
      ],
      "source": [
        "import pandas as pd\n",
        "\n",
        "url = \"https://raw.githubusercontent.com/Gise05624/Proyecto_DataScience_I/refs/heads/main/postventa_scania.csv\"\n",
        "df = pd.read_csv(url)\n",
        "\n",
        "# Ver las primeras filas\n",
        "print(df.head())"
      ]
    }
  ]
}